{
 "cells": [
  {
   "cell_type": "markdown",
   "metadata": {},
   "source": [
    "# **Lekcja 31: Wprowadzenie do LangChain i jego architektury**"
   ]
  },
  {
   "cell_type": "markdown",
   "metadata": {},
   "source": [
    "## **1. Wstęp**\n",
    "LangChain to framework, który **upraszcza tworzenie aplikacji AI** opartych na **LLMs**. Umożliwia:\n",
    "- **Łączenie modeli AI z danymi**\n",
    "- **Tworzenie chatbotów**\n",
    "- **Automatyzację procesów**"
   ]
  },
  {
   "cell_type": "markdown",
   "metadata": {},
   "source": [
    "## **2. Instalacja LangChain**\n",
    "Komórka 1: Instalacja wymaganych bibliotek (uruchom tylko raz, jeśli ich nie masz)"
   ]
  },
  {
   "cell_type": "code",
   "execution_count": 1,
   "metadata": {},
   "outputs": [
    {
     "name": "stdout",
     "output_type": "stream",
     "text": [
      "Requirement already satisfied: python-dotenv in c:\\users\\takze\\onedrive\\pulpit\\python\\venv\\lib\\site-packages (1.0.1)Note: you may need to restart the kernel to use updated packages.\n",
      "\n",
      "Requirement already satisfied: langchain in c:\\users\\takze\\onedrive\\pulpit\\python\\venv\\lib\\site-packages (0.3.18)\n",
      "Requirement already satisfied: langchain-google-genai in c:\\users\\takze\\onedrive\\pulpit\\python\\venv\\lib\\site-packages (2.0.9)\n",
      "Requirement already satisfied: google-generativeai in c:\\users\\takze\\onedrive\\pulpit\\python\\venv\\lib\\site-packages (0.8.4)\n",
      "Requirement already satisfied: langchain-core<1.0.0,>=0.3.34 in c:\\users\\takze\\onedrive\\pulpit\\python\\venv\\lib\\site-packages (from langchain) (0.3.34)\n",
      "Requirement already satisfied: langchain-text-splitters<1.0.0,>=0.3.6 in c:\\users\\takze\\onedrive\\pulpit\\python\\venv\\lib\\site-packages (from langchain) (0.3.6)\n",
      "Requirement already satisfied: langsmith<0.4,>=0.1.17 in c:\\users\\takze\\onedrive\\pulpit\\python\\venv\\lib\\site-packages (from langchain) (0.3.8)\n",
      "Requirement already satisfied: pydantic<3.0.0,>=2.7.4 in c:\\users\\takze\\onedrive\\pulpit\\python\\venv\\lib\\site-packages (from langchain) (2.10.6)\n",
      "Requirement already satisfied: SQLAlchemy<3,>=1.4 in c:\\users\\takze\\onedrive\\pulpit\\python\\venv\\lib\\site-packages (from langchain) (2.0.38)\n",
      "Requirement already satisfied: requests<3,>=2 in c:\\users\\takze\\onedrive\\pulpit\\python\\venv\\lib\\site-packages (from langchain) (2.32.3)\n",
      "Requirement already satisfied: PyYAML>=5.3 in c:\\users\\takze\\onedrive\\pulpit\\python\\venv\\lib\\site-packages (from langchain) (6.0.2)\n",
      "Requirement already satisfied: aiohttp<4.0.0,>=3.8.3 in c:\\users\\takze\\onedrive\\pulpit\\python\\venv\\lib\\site-packages (from langchain) (3.11.12)\n",
      "Requirement already satisfied: tenacity!=8.4.0,<10,>=8.1.0 in c:\\users\\takze\\onedrive\\pulpit\\python\\venv\\lib\\site-packages (from langchain) (9.0.0)\n",
      "Requirement already satisfied: numpy<3,>=1.26.2 in c:\\users\\takze\\onedrive\\pulpit\\python\\venv\\lib\\site-packages (from langchain) (2.2.2)\n",
      "Requirement already satisfied: filetype<2.0.0,>=1.2.0 in c:\\users\\takze\\onedrive\\pulpit\\python\\venv\\lib\\site-packages (from langchain-google-genai) (1.2.0)\n",
      "Requirement already satisfied: google-ai-generativelanguage==0.6.15 in c:\\users\\takze\\onedrive\\pulpit\\python\\venv\\lib\\site-packages (from google-generativeai) (0.6.15)\n",
      "Requirement already satisfied: google-api-core in c:\\users\\takze\\onedrive\\pulpit\\python\\venv\\lib\\site-packages (from google-generativeai) (2.24.1)\n",
      "Requirement already satisfied: google-api-python-client in c:\\users\\takze\\onedrive\\pulpit\\python\\venv\\lib\\site-packages (from google-generativeai) (2.160.0)\n",
      "Requirement already satisfied: google-auth>=2.15.0 in c:\\users\\takze\\onedrive\\pulpit\\python\\venv\\lib\\site-packages (from google-generativeai) (2.38.0)\n",
      "Requirement already satisfied: protobuf in c:\\users\\takze\\onedrive\\pulpit\\python\\venv\\lib\\site-packages (from google-generativeai) (5.29.3)\n",
      "Requirement already satisfied: tqdm in c:\\users\\takze\\onedrive\\pulpit\\python\\venv\\lib\\site-packages (from google-generativeai) (4.67.1)\n",
      "Requirement already satisfied: typing-extensions in c:\\users\\takze\\onedrive\\pulpit\\python\\venv\\lib\\site-packages (from google-generativeai) (4.12.2)\n",
      "Requirement already satisfied: proto-plus<2.0.0dev,>=1.22.3 in c:\\users\\takze\\onedrive\\pulpit\\python\\venv\\lib\\site-packages (from google-ai-generativelanguage==0.6.15->google-generativeai) (1.26.0)\n",
      "Requirement already satisfied: aiohappyeyeballs>=2.3.0 in c:\\users\\takze\\onedrive\\pulpit\\python\\venv\\lib\\site-packages (from aiohttp<4.0.0,>=3.8.3->langchain) (2.4.6)\n",
      "Requirement already satisfied: aiosignal>=1.1.2 in c:\\users\\takze\\onedrive\\pulpit\\python\\venv\\lib\\site-packages (from aiohttp<4.0.0,>=3.8.3->langchain) (1.3.2)\n",
      "Requirement already satisfied: attrs>=17.3.0 in c:\\users\\takze\\onedrive\\pulpit\\python\\venv\\lib\\site-packages (from aiohttp<4.0.0,>=3.8.3->langchain) (25.1.0)\n",
      "Requirement already satisfied: frozenlist>=1.1.1 in c:\\users\\takze\\onedrive\\pulpit\\python\\venv\\lib\\site-packages (from aiohttp<4.0.0,>=3.8.3->langchain) (1.5.0)\n",
      "Requirement already satisfied: multidict<7.0,>=4.5 in c:\\users\\takze\\onedrive\\pulpit\\python\\venv\\lib\\site-packages (from aiohttp<4.0.0,>=3.8.3->langchain) (6.1.0)\n",
      "Requirement already satisfied: propcache>=0.2.0 in c:\\users\\takze\\onedrive\\pulpit\\python\\venv\\lib\\site-packages (from aiohttp<4.0.0,>=3.8.3->langchain) (0.2.1)\n",
      "Requirement already satisfied: yarl<2.0,>=1.17.0 in c:\\users\\takze\\onedrive\\pulpit\\python\\venv\\lib\\site-packages (from aiohttp<4.0.0,>=3.8.3->langchain) (1.18.3)\n",
      "Requirement already satisfied: googleapis-common-protos<2.0.dev0,>=1.56.2 in c:\\users\\takze\\onedrive\\pulpit\\python\\venv\\lib\\site-packages (from google-api-core->google-generativeai) (1.67.0rc1)\n",
      "Requirement already satisfied: cachetools<6.0,>=2.0.0 in c:\\users\\takze\\onedrive\\pulpit\\python\\venv\\lib\\site-packages (from google-auth>=2.15.0->google-generativeai) (5.5.1)\n",
      "Requirement already satisfied: pyasn1-modules>=0.2.1 in c:\\users\\takze\\onedrive\\pulpit\\python\\venv\\lib\\site-packages (from google-auth>=2.15.0->google-generativeai) (0.4.1)\n",
      "Requirement already satisfied: rsa<5,>=3.1.4 in c:\\users\\takze\\onedrive\\pulpit\\python\\venv\\lib\\site-packages (from google-auth>=2.15.0->google-generativeai) (4.9)\n",
      "Requirement already satisfied: jsonpatch<2.0,>=1.33 in c:\\users\\takze\\onedrive\\pulpit\\python\\venv\\lib\\site-packages (from langchain-core<1.0.0,>=0.3.34->langchain) (1.33)\n",
      "Requirement already satisfied: packaging<25,>=23.2 in c:\\users\\takze\\onedrive\\pulpit\\python\\venv\\lib\\site-packages (from langchain-core<1.0.0,>=0.3.34->langchain) (24.2)\n",
      "Requirement already satisfied: httpx<1,>=0.23.0 in c:\\users\\takze\\onedrive\\pulpit\\python\\venv\\lib\\site-packages (from langsmith<0.4,>=0.1.17->langchain) (0.28.1)\n",
      "Requirement already satisfied: orjson<4.0.0,>=3.9.14 in c:\\users\\takze\\onedrive\\pulpit\\python\\venv\\lib\\site-packages (from langsmith<0.4,>=0.1.17->langchain) (3.10.15)\n",
      "Requirement already satisfied: requests-toolbelt<2.0.0,>=1.0.0 in c:\\users\\takze\\onedrive\\pulpit\\python\\venv\\lib\\site-packages (from langsmith<0.4,>=0.1.17->langchain) (1.0.0)\n",
      "Requirement already satisfied: zstandard<0.24.0,>=0.23.0 in c:\\users\\takze\\onedrive\\pulpit\\python\\venv\\lib\\site-packages (from langsmith<0.4,>=0.1.17->langchain) (0.23.0)\n",
      "Requirement already satisfied: annotated-types>=0.6.0 in c:\\users\\takze\\onedrive\\pulpit\\python\\venv\\lib\\site-packages (from pydantic<3.0.0,>=2.7.4->langchain) (0.7.0)\n",
      "Requirement already satisfied: pydantic-core==2.27.2 in c:\\users\\takze\\onedrive\\pulpit\\python\\venv\\lib\\site-packages (from pydantic<3.0.0,>=2.7.4->langchain) (2.27.2)\n",
      "Requirement already satisfied: charset-normalizer<4,>=2 in c:\\users\\takze\\onedrive\\pulpit\\python\\venv\\lib\\site-packages (from requests<3,>=2->langchain) (3.4.1)\n",
      "Requirement already satisfied: idna<4,>=2.5 in c:\\users\\takze\\onedrive\\pulpit\\python\\venv\\lib\\site-packages (from requests<3,>=2->langchain) (3.10)\n",
      "Requirement already satisfied: urllib3<3,>=1.21.1 in c:\\users\\takze\\onedrive\\pulpit\\python\\venv\\lib\\site-packages (from requests<3,>=2->langchain) (2.3.0)\n",
      "Requirement already satisfied: certifi>=2017.4.17 in c:\\users\\takze\\onedrive\\pulpit\\python\\venv\\lib\\site-packages (from requests<3,>=2->langchain) (2025.1.31)\n",
      "Requirement already satisfied: greenlet!=0.4.17 in c:\\users\\takze\\onedrive\\pulpit\\python\\venv\\lib\\site-packages (from SQLAlchemy<3,>=1.4->langchain) (3.1.1)\n",
      "Requirement already satisfied: httplib2<1.dev0,>=0.19.0 in c:\\users\\takze\\onedrive\\pulpit\\python\\venv\\lib\\site-packages (from google-api-python-client->google-generativeai) (0.22.0)\n",
      "Requirement already satisfied: google-auth-httplib2<1.0.0,>=0.2.0 in c:\\users\\takze\\onedrive\\pulpit\\python\\venv\\lib\\site-packages (from google-api-python-client->google-generativeai) (0.2.0)\n",
      "Requirement already satisfied: uritemplate<5,>=3.0.1 in c:\\users\\takze\\onedrive\\pulpit\\python\\venv\\lib\\site-packages (from google-api-python-client->google-generativeai) (4.1.1)\n",
      "Requirement already satisfied: colorama in c:\\users\\takze\\onedrive\\pulpit\\python\\venv\\lib\\site-packages (from tqdm->google-generativeai) (0.4.6)\n",
      "Requirement already satisfied: grpcio<2.0dev,>=1.33.2 in c:\\users\\takze\\onedrive\\pulpit\\python\\venv\\lib\\site-packages (from google-api-core[grpc]!=2.0.*,!=2.1.*,!=2.10.*,!=2.2.*,!=2.3.*,!=2.4.*,!=2.5.*,!=2.6.*,!=2.7.*,!=2.8.*,!=2.9.*,<3.0.0dev,>=1.34.1->google-ai-generativelanguage==0.6.15->google-generativeai) (1.70.0)\n",
      "Requirement already satisfied: grpcio-status<2.0.dev0,>=1.33.2 in c:\\users\\takze\\onedrive\\pulpit\\python\\venv\\lib\\site-packages (from google-api-core[grpc]!=2.0.*,!=2.1.*,!=2.10.*,!=2.2.*,!=2.3.*,!=2.4.*,!=2.5.*,!=2.6.*,!=2.7.*,!=2.8.*,!=2.9.*,<3.0.0dev,>=1.34.1->google-ai-generativelanguage==0.6.15->google-generativeai) (1.70.0)\n",
      "Requirement already satisfied: pyparsing!=3.0.0,!=3.0.1,!=3.0.2,!=3.0.3,<4,>=2.4.2 in c:\\users\\takze\\onedrive\\pulpit\\python\\venv\\lib\\site-packages (from httplib2<1.dev0,>=0.19.0->google-api-python-client->google-generativeai) (3.2.1)\n",
      "Requirement already satisfied: anyio in c:\\users\\takze\\onedrive\\pulpit\\python\\venv\\lib\\site-packages (from httpx<1,>=0.23.0->langsmith<0.4,>=0.1.17->langchain) (4.8.0)\n",
      "Requirement already satisfied: httpcore==1.* in c:\\users\\takze\\onedrive\\pulpit\\python\\venv\\lib\\site-packages (from httpx<1,>=0.23.0->langsmith<0.4,>=0.1.17->langchain) (1.0.7)\n",
      "Requirement already satisfied: h11<0.15,>=0.13 in c:\\users\\takze\\onedrive\\pulpit\\python\\venv\\lib\\site-packages (from httpcore==1.*->httpx<1,>=0.23.0->langsmith<0.4,>=0.1.17->langchain) (0.14.0)\n",
      "Requirement already satisfied: jsonpointer>=1.9 in c:\\users\\takze\\onedrive\\pulpit\\python\\venv\\lib\\site-packages (from jsonpatch<2.0,>=1.33->langchain-core<1.0.0,>=0.3.34->langchain) (3.0.0)\n",
      "Requirement already satisfied: pyasn1<0.7.0,>=0.4.6 in c:\\users\\takze\\onedrive\\pulpit\\python\\venv\\lib\\site-packages (from pyasn1-modules>=0.2.1->google-auth>=2.15.0->google-generativeai) (0.6.1)\n",
      "Requirement already satisfied: sniffio>=1.1 in c:\\users\\takze\\onedrive\\pulpit\\python\\venv\\lib\\site-packages (from anyio->httpx<1,>=0.23.0->langsmith<0.4,>=0.1.17->langchain) (1.3.1)\n"
     ]
    }
   ],
   "source": [
    "%pip install python-dotenv langchain langchain-google-genai google-generativeai"
   ]
  },
  {
   "cell_type": "markdown",
   "metadata": {},
   "source": [
    "## **3. Podstawowa architektura LangChain**\n",
    "LangChain składa się z 3 głównych komponentów:\n",
    "1. **LLMs** → Model językowy (np. GPT-4).\n",
    "2. **Prompt Engineering** → Tworzenie skutecznych zapytań.\n",
    "3. **Łańcuchy (Chains)** → Automatyczne wykonywanie sekwencji operacji."
   ]
  },
  {
   "cell_type": "markdown",
   "metadata": {},
   "source": [
    "## **4. Przykład kodu – użycie LangChain do generowania tekstu**"
   ]
  },
  {
   "cell_type": "markdown",
   "metadata": {},
   "source": [
    "Komórka 2: Import bibliotek, załadowanie klucza API i inicjalizacja modelu Gemini"
   ]
  },
  {
   "cell_type": "code",
   "execution_count": 1,
   "metadata": {},
   "outputs": [
    {
     "name": "stderr",
     "output_type": "stream",
     "text": [
      "c:\\Users\\takze\\OneDrive\\Pulpit\\python\\venv\\Lib\\site-packages\\tqdm\\auto.py:21: TqdmWarning: IProgress not found. Please update jupyter and ipywidgets. See https://ipywidgets.readthedocs.io/en/stable/user_install.html\n",
      "  from .autonotebook import tqdm as notebook_tqdm\n"
     ]
    }
   ],
   "source": [
    "import os\n",
    "from dotenv import load_dotenv\n",
    "from langchain_google_genai import ChatGoogleGenerativeAI\n",
    "from langchain.prompts import PromptTemplate\n",
    "from langchain.schema import StrOutputParser\n",
    "\n",
    "# Załaduj zmienne środowiskowe z pliku .env\n",
    "load_dotenv()\n",
    "\n",
    "# Pobierz klucz API Google z zmiennej środowiskowej\n",
    "google_api_key = os.getenv(\"GOOGLE_API_KEY\")\n",
    "\n",
    "# Sprawdź czy klucz API Google został pobrany\n",
    "if google_api_key is None:\n",
    "    raise ValueError(\"Nie znaleziono klucza API Google. Upewnij się, że ustawiłeś zmienną środowiskową GOOGLE_API_KEY w pliku .env.\")\n",
    "\n",
    "# Ustaw klucz API i zainicjuj model ChatGoogleGenerativeAI\n",
    "llm = ChatGoogleGenerativeAI(model=\"gemini-1.5-pro\", google_api_key=google_api_key)"
   ]
  },
  {
   "cell_type": "markdown",
   "metadata": {},
   "source": [
    "Komórka 3: Definicja promptu i uruchomienie łańcucha"
   ]
  },
  {
   "cell_type": "code",
   "execution_count": 2,
   "metadata": {},
   "outputs": [
    {
     "name": "stdout",
     "output_type": "stream",
     "text": [
      "LangChain to framework ułatwiający tworzenie aplikacji opartych o duże modele językowe (LLM).  Oferuje on zestaw modułów i interfejsów, które upraszczają złożone zadania związane z wykorzystaniem LLM, takie jak:\n",
      "\n",
      "**Kluczowe komponenty i funkcjonalności LangChain:**\n",
      "\n",
      "* **Modele:** LangChain zapewnia abstrakcje dla różnych modeli językowych, umożliwiając łatwe przełączanie się między nimi (np. OpenAI, Hugging Face, Cohere) bez konieczności zmiany kodu aplikacji.  Umożliwia też łączenie kilku modeli w ramach jednej aplikacji.\n",
      "\n",
      "* **Łańcuchy (Chains):** To sekwencje wywołań do modeli językowych lub innych narzędzi.  Pozwalają one na budowanie bardziej złożonych przepływów pracy, takich jak podsumowanie tekstu, odpowiadanie na pytania, czy generowanie tekstu na podstawie szablonu.  LangChain oferuje predefiniowane łańcuchy dla popularnych zadań, a także umożliwia tworzenie własnych, dostosowanych do konkretnych potrzeb.\n",
      "\n",
      "* **Indeksy:**  Umożliwiają one strukturyzowanie i przeszukiwanie danych w celu efektywniejszego wykorzystania ich z LLM.  LangChain oferuje narzędzia do tworzenia indeksów dla różnych typów danych, takich jak dokumenty tekstowe.  Dzięki temu LLM może korzystać z kontekstu zawartego w danych, co poprawia jakość generowanych odpowiedzi.\n",
      "\n",
      "* **Agenci:** Agenci to komponenty, które decydują, jakie akcje należy podjąć w danym momencie.  Mogą oni wywoływać modele językowe, korzystać z narzędzi, takich jak kalkulatory czy wyszukiwarki internetowe, lub wykonywać inne operacje.  LangChain oferuje integracje z różnymi narzędziami i umożliwia tworzenie własnych agentów.\n",
      "\n",
      "* **Pamięć:**  Pamięć pozwala na przechowywanie informacji między kolejnymi wywołaniami LLM, co umożliwia prowadzenie konwersacji i śledzenie kontekstu.  LangChain oferuje różne mechanizmy pamięci, takie jak buforowanie poprzednich odpowiedzi.\n",
      "\n",
      "* **Callbacks:** Mechanizm callbacków umożliwia monitorowanie i rejestrowanie działań LangChain, co jest przydatne podczas debugowania i analizy działania aplikacji.\n",
      "\n",
      "\n",
      "**Jak działa LangChain w praktyce?**\n",
      "\n",
      "1. **Definiujesz zadanie:** Określasz, co chcesz osiągnąć za pomocą LLM, np. stworzyć chatbot, który odpowiada na pytania o konkretny produkt.\n",
      "\n",
      "2. **Wybierasz model:** Wybierasz odpowiedni model językowy, który najlepiej pasuje do Twojego zadania.\n",
      "\n",
      "3. **Konfigurujesz łańcuch:** Tworzysz łańcuch wywołań, który definiuje, jak model będzie wykorzystywany.  Możesz użyć predefiniowanego łańcucha lub stworzyć własny.\n",
      "\n",
      "4. **Dodajesz narzędzia (opcjonalnie):**  Jeśli potrzebujesz, integrujesz dodatkowe narzędzia, takie jak wyszukiwarka internetowa lub kalkulator.\n",
      "\n",
      "5. **Implementujesz pamięć (opcjonalnie):**  Dodajesz mechanizm pamięci, jeśli chcesz, aby aplikacja zapamiętywała poprzednie interakcje.\n",
      "\n",
      "6. **Uruchamiasz aplikację:**  Wywołujesz skonfigurowany łańcuch, aby wykonać zadanie.\n",
      "\n",
      "\n",
      "**Korzyści z używania LangChain:**\n",
      "\n",
      "* **Modularność i elastyczność:**  Łatwe dostosowanie do różnych zadań i modeli.\n",
      "* **Uproszczenie rozwoju:**  Abstrakcja od złożoności LLM.\n",
      "* **Integracja z różnymi narzędziami:**  Możliwość rozszerzenia funkcjonalności aplikacji.\n",
      "* **Wsparcie dla różnych typów danych:**  Efektywne wykorzystanie danych z LLM.\n",
      "\n",
      "\n",
      "LangChain to potężne narzędzie, które ułatwia tworzenie zaawansowanych aplikacji opartych o LLM.  Dzięki swojej modularności i elastyczności, LangChain pozwala na szybkie prototypowanie i budowanie skalowalnych rozwiązań.\n"
     ]
    }
   ],
   "source": [
    "# Utwórz prompt template\n",
    "template = \"Jak działa LangChain?\"\n",
    "prompt = PromptTemplate.from_template(template)\n",
    "\n",
    "# Stwórz łańcuch\n",
    "chain = prompt | llm | StrOutputParser()\n",
    "\n",
    "# Wykonaj zapytanie i uzyskaj odpowiedź\n",
    "response = chain.invoke({})\n",
    "\n",
    "# Wyświetl odpowiedź\n",
    "print(response)"
   ]
  },
  {
   "cell_type": "markdown",
   "metadata": {},
   "source": [
    "Wyjaśnienie:\n",
    "\n",
    "    Komórka 1: Instaluje wymagane biblioteki. Uruchom ją tylko raz, chyba że chcesz ponownie zainstalować biblioteki.\n",
    "\n",
    "    Komórka 2:\n",
    "\n",
    "        Importuje biblioteki:\n",
    "\n",
    "            os: Do pracy ze zmiennymi środowiskowymi.\n",
    "\n",
    "            dotenv: Do ładowania zmiennych środowiskowych z pliku .env.\n",
    "\n",
    "            ChatGoogleGenerativeAI: Klasa do interakcji z modelami Gemini w Langchain.\n",
    "\n",
    "            PromptTemplate: Klasa do tworzenia promptów.\n",
    "\n",
    "            StrOutputParser: Klasa do konwersji wyniku modelu na string.\n",
    "\n",
    "        Ładuje zmienne środowiskowe z pliku .env.\n",
    "\n",
    "        Pobiera klucz API Google z zmiennej środowiskowej GOOGLE_API_KEY.\n",
    "\n",
    "        Sprawdza, czy klucz API został pobrany.\n",
    "\n",
    "        Inicjalizuje model ChatGoogleGenerativeAI.\n",
    "\n",
    "    Komórka 3:\n",
    "\n",
    "        Definiuje prompt template.\n",
    "\n",
    "        Tworzy łańcuch, łącząc prompt, model i parser wyjścia.\n",
    "\n",
    "        Uruchamia łańcuch za pomocą chain.invoke({}).\n",
    "\n",
    "        Wyświetla odpowiedź.\n",
    "\n",
    "Jak używać w Jupyter Notebook:\n",
    "\n",
    "    Otwórz plik ipynb w Jupyter Notebook.\n",
    "\n",
    "    Wklej zawartość każdej komórki do osobnej komórki w notebooku.\n",
    "\n",
    "    Uruchom komórki po kolei (Shift + Enter).\n",
    "\n",
    "Dodatkowe informacje:\n",
    "\n",
    "    Upewnij się, że masz aktywny kernel (jądro) Jupyter Notebook, który korzysta z Twojego środowiska wirtualnego.\n",
    "\n",
    "    Upewnij się, że plik .env znajduje się w tym samym katalogu co plik ipynb.\n",
    "\n",
    "    Upewnij się, że masz poprawny klucz API Google w pliku .env.\n",
    "\n",
    "    Ten kod powinien działać bez żadnych ostrzeżeń.\n",
    "\n",
    "Ten kod to kompletny przykład, który możesz skopiować i wkleić do Jupyter Notebook."
   ]
  },
  {
   "cell_type": "markdown",
   "metadata": {},
   "source": [
    "## **5. Podsumowanie**\n",
    "LangChain pozwala budować **zaawansowane aplikacje AI** w prosty sposób. W kolejnych lekcjach nauczymy się, jak łączyć modele AI z bazami danych i API.\n",
    "\n",
    "🚀 **Teraz czas na praktykę!**"
   ]
  }
 ],
 "metadata": {
  "kernelspec": {
   "display_name": "venv",
   "language": "python",
   "name": "python3"
  },
  "language_info": {
   "codemirror_mode": {
    "name": "ipython",
    "version": 3
   },
   "file_extension": ".py",
   "mimetype": "text/x-python",
   "name": "python",
   "nbconvert_exporter": "python",
   "pygments_lexer": "ipython3",
   "version": "3.12.8"
  }
 },
 "nbformat": 4,
 "nbformat_minor": 2
}

{
 "cells": [
  {
   "cell_type": "markdown",
   "metadata": {},
   "source": [
    "# **Lekcja 25: Jak działają Large Language Models (LLMs)?**"
   ]
  },
  {
   "cell_type": "markdown",
   "metadata": {},
   "source": [
    "## **1. Wstęp**\n",
    "Large Language Models (LLMs), takie jak **GPT-3** i **GPT-4**, to potężne sieci neuronowe przeszkolone na miliardach słów. Potrafią generować tekst, odpowiadać na pytania i tłumaczyć języki. W tej lekcji omówimy:\n",
    "- **Jak są trenowane?**\n",
    "- **Co to jest tokenizacja?**\n",
    "- **Jak generują tekst?**"
   ]
  },
  {
   "cell_type": "markdown",
   "metadata": {},
   "source": [
    "## **2. Instalacja narzędzi**\n",
    "Komórka 1: Najpierw musimy zainstalować odpowiednie biblioteki. Uruchom poniższą komórkę:\n"
   ]
  },
  {
   "cell_type": "code",
   "execution_count": null,
   "metadata": {},
   "outputs": [
    {
     "name": "stdout",
     "output_type": "stream",
     "text": [
      "Collecting python-dotenv\n",
      "  Using cached python_dotenv-1.0.1-py3-none-any.whl.metadata (23 kB)\n",
      "Collecting google-generativeai\n",
      "  Using cached google_generativeai-0.8.4-py3-none-any.whl.metadata (4.2 kB)\n",
      "Collecting google-ai-generativelanguage==0.6.15 (from google-generativeai)\n",
      "  Using cached google_ai_generativelanguage-0.6.15-py3-none-any.whl.metadata (5.7 kB)\n",
      "Collecting google-api-core (from google-generativeai)\n",
      "  Using cached google_api_core-2.24.1-py3-none-any.whl.metadata (3.0 kB)\n",
      "Collecting google-api-python-client (from google-generativeai)\n",
      "  Using cached google_api_python_client-2.160.0-py2.py3-none-any.whl.metadata (6.7 kB)\n",
      "Collecting google-auth>=2.15.0 (from google-generativeai)\n",
      "  Using cached google_auth-2.38.0-py2.py3-none-any.whl.metadata (4.8 kB)\n",
      "Collecting protobuf (from google-generativeai)\n",
      "  Using cached protobuf-5.29.3-cp310-abi3-win_amd64.whl.metadata (592 bytes)\n",
      "Collecting pydantic (from google-generativeai)\n",
      "  Using cached pydantic-2.10.6-py3-none-any.whl.metadata (30 kB)\n",
      "Collecting tqdm (from google-generativeai)\n",
      "  Using cached tqdm-4.67.1-py3-none-any.whl.metadata (57 kB)\n",
      "Collecting typing-extensions (from google-generativeai)\n",
      "  Using cached typing_extensions-4.12.2-py3-none-any.whl.metadata (3.0 kB)\n",
      "Collecting proto-plus<2.0.0dev,>=1.22.3 (from google-ai-generativelanguage==0.6.15->google-generativeai)\n",
      "  Using cached proto_plus-1.26.0-py3-none-any.whl.metadata (2.2 kB)\n",
      "Collecting googleapis-common-protos<2.0.dev0,>=1.56.2 (from google-api-core->google-generativeai)\n",
      "  Using cached googleapis_common_protos-1.67.0rc1-py2.py3-none-any.whl.metadata (5.1 kB)\n",
      "Collecting requests<3.0.0.dev0,>=2.18.0 (from google-api-core->google-generativeai)\n",
      "  Using cached requests-2.32.3-py3-none-any.whl.metadata (4.6 kB)\n",
      "Collecting cachetools<6.0,>=2.0.0 (from google-auth>=2.15.0->google-generativeai)\n",
      "  Using cached cachetools-5.5.1-py3-none-any.whl.metadata (5.4 kB)\n",
      "Collecting pyasn1-modules>=0.2.1 (from google-auth>=2.15.0->google-generativeai)\n",
      "  Using cached pyasn1_modules-0.4.1-py3-none-any.whl.metadata (3.5 kB)\n",
      "Collecting rsa<5,>=3.1.4 (from google-auth>=2.15.0->google-generativeai)\n",
      "  Using cached rsa-4.9-py3-none-any.whl.metadata (4.2 kB)\n",
      "Collecting httplib2<1.dev0,>=0.19.0 (from google-api-python-client->google-generativeai)\n",
      "  Using cached httplib2-0.22.0-py3-none-any.whl.metadata (2.6 kB)\n",
      "Collecting google-auth-httplib2<1.0.0,>=0.2.0 (from google-api-python-client->google-generativeai)\n",
      "  Using cached google_auth_httplib2-0.2.0-py2.py3-none-any.whl.metadata (2.2 kB)\n",
      "Collecting uritemplate<5,>=3.0.1 (from google-api-python-client->google-generativeai)\n",
      "  Using cached uritemplate-4.1.1-py2.py3-none-any.whl.metadata (2.9 kB)\n",
      "Collecting annotated-types>=0.6.0 (from pydantic->google-generativeai)\n",
      "  Using cached annotated_types-0.7.0-py3-none-any.whl.metadata (15 kB)\n",
      "Collecting pydantic-core==2.27.2 (from pydantic->google-generativeai)\n",
      "  Using cached pydantic_core-2.27.2-cp312-cp312-win_amd64.whl.metadata (6.7 kB)\n",
      "Requirement already satisfied: colorama in c:\\users\\takze\\onedrive\\pulpit\\bootcamp\\venv\\lib\\site-packages (from tqdm->google-generativeai) (0.4.6)\n",
      "Collecting grpcio<2.0dev,>=1.33.2 (from google-api-core[grpc]!=2.0.*,!=2.1.*,!=2.10.*,!=2.2.*,!=2.3.*,!=2.4.*,!=2.5.*,!=2.6.*,!=2.7.*,!=2.8.*,!=2.9.*,<3.0.0dev,>=1.34.1->google-ai-generativelanguage==0.6.15->google-generativeai)\n",
      "  Using cached grpcio-1.70.0-cp312-cp312-win_amd64.whl.metadata (4.0 kB)\n",
      "Collecting grpcio-status<2.0.dev0,>=1.33.2 (from google-api-core[grpc]!=2.0.*,!=2.1.*,!=2.10.*,!=2.2.*,!=2.3.*,!=2.4.*,!=2.5.*,!=2.6.*,!=2.7.*,!=2.8.*,!=2.9.*,<3.0.0dev,>=1.34.1->google-ai-generativelanguage==0.6.15->google-generativeai)\n",
      "  Using cached grpcio_status-1.70.0-py3-none-any.whl.metadata (1.1 kB)\n",
      "Collecting pyparsing!=3.0.0,!=3.0.1,!=3.0.2,!=3.0.3,<4,>=2.4.2 (from httplib2<1.dev0,>=0.19.0->google-api-python-client->google-generativeai)\n",
      "  Using cached pyparsing-3.2.1-py3-none-any.whl.metadata (5.0 kB)\n",
      "Collecting pyasn1<0.7.0,>=0.4.6 (from pyasn1-modules>=0.2.1->google-auth>=2.15.0->google-generativeai)\n",
      "  Using cached pyasn1-0.6.1-py3-none-any.whl.metadata (8.4 kB)\n",
      "Collecting charset-normalizer<4,>=2 (from requests<3.0.0.dev0,>=2.18.0->google-api-core->google-generativeai)\n",
      "  Using cached charset_normalizer-3.4.1-cp312-cp312-win_amd64.whl.metadata (36 kB)\n",
      "Collecting idna<4,>=2.5 (from requests<3.0.0.dev0,>=2.18.0->google-api-core->google-generativeai)\n",
      "  Using cached idna-3.10-py3-none-any.whl.metadata (10 kB)\n",
      "Collecting urllib3<3,>=1.21.1 (from requests<3.0.0.dev0,>=2.18.0->google-api-core->google-generativeai)\n",
      "  Using cached urllib3-2.3.0-py3-none-any.whl.metadata (6.5 kB)\n",
      "Collecting certifi>=2017.4.17 (from requests<3.0.0.dev0,>=2.18.0->google-api-core->google-generativeai)\n",
      "  Using cached certifi-2025.1.31-py3-none-any.whl.metadata (2.5 kB)\n",
      "Using cached python_dotenv-1.0.1-py3-none-any.whl (19 kB)\n",
      "Using cached google_generativeai-0.8.4-py3-none-any.whl (175 kB)\n",
      "Using cached google_ai_generativelanguage-0.6.15-py3-none-any.whl (1.3 MB)\n",
      "Using cached google_api_core-2.24.1-py3-none-any.whl (160 kB)\n",
      "Using cached google_auth-2.38.0-py2.py3-none-any.whl (210 kB)\n",
      "Using cached protobuf-5.29.3-cp310-abi3-win_amd64.whl (434 kB)\n",
      "Using cached google_api_python_client-2.160.0-py2.py3-none-any.whl (12.8 MB)\n",
      "Using cached pydantic-2.10.6-py3-none-any.whl (431 kB)\n",
      "Using cached pydantic_core-2.27.2-cp312-cp312-win_amd64.whl (2.0 MB)\n",
      "Using cached typing_extensions-4.12.2-py3-none-any.whl (37 kB)\n",
      "Using cached tqdm-4.67.1-py3-none-any.whl (78 kB)\n",
      "Using cached annotated_types-0.7.0-py3-none-any.whl (13 kB)\n",
      "Using cached cachetools-5.5.1-py3-none-any.whl (9.5 kB)\n",
      "Using cached google_auth_httplib2-0.2.0-py2.py3-none-any.whl (9.3 kB)\n",
      "Using cached googleapis_common_protos-1.67.0rc1-py2.py3-none-any.whl (165 kB)\n",
      "Using cached httplib2-0.22.0-py3-none-any.whl (96 kB)\n",
      "Using cached proto_plus-1.26.0-py3-none-any.whl (50 kB)\n",
      "Using cached pyasn1_modules-0.4.1-py3-none-any.whl (181 kB)\n",
      "Using cached requests-2.32.3-py3-none-any.whl (64 kB)\n",
      "Using cached rsa-4.9-py3-none-any.whl (34 kB)\n",
      "Using cached uritemplate-4.1.1-py2.py3-none-any.whl (10 kB)\n",
      "Using cached certifi-2025.1.31-py3-none-any.whl (166 kB)\n",
      "Using cached charset_normalizer-3.4.1-cp312-cp312-win_amd64.whl (102 kB)\n",
      "Using cached grpcio-1.70.0-cp312-cp312-win_amd64.whl (4.3 MB)\n",
      "Using cached grpcio_status-1.70.0-py3-none-any.whl (14 kB)\n",
      "Using cached idna-3.10-py3-none-any.whl (70 kB)\n",
      "Using cached pyasn1-0.6.1-py3-none-any.whl (83 kB)\n",
      "Using cached pyparsing-3.2.1-py3-none-any.whl (107 kB)\n",
      "Using cached urllib3-2.3.0-py3-none-any.whl (128 kB)\n",
      "Installing collected packages: urllib3, uritemplate, typing-extensions, tqdm, python-dotenv, pyparsing, pyasn1, protobuf, idna, grpcio, charset-normalizer, certifi, cachetools, annotated-types, rsa, requests, pydantic-core, pyasn1-modules, proto-plus, httplib2, googleapis-common-protos, pydantic, grpcio-status, google-auth, google-auth-httplib2, google-api-core, google-api-python-client, google-ai-generativelanguage, google-generativeai\n",
      "Successfully installed annotated-types-0.7.0 cachetools-5.5.1 certifi-2025.1.31 charset-normalizer-3.4.1 google-ai-generativelanguage-0.6.15 google-api-core-2.24.1 google-api-python-client-2.160.0 google-auth-2.38.0 google-auth-httplib2-0.2.0 google-generativeai-0.8.4 googleapis-common-protos-1.67.0rc1 grpcio-1.70.0 grpcio-status-1.70.0 httplib2-0.22.0 idna-3.10 proto-plus-1.26.0 protobuf-5.29.3 pyasn1-0.6.1 pyasn1-modules-0.4.1 pydantic-2.10.6 pydantic-core-2.27.2 pyparsing-3.2.1 python-dotenv-1.0.1 requests-2.32.3 rsa-4.9 tqdm-4.67.1 typing-extensions-4.12.2 uritemplate-4.1.1 urllib3-2.3.0\n",
      "Note: you may need to restart the kernel to use updated packages.\n"
     ]
    }
   ],
   "source": [
    "%pip install python-dotenv google-generativeai"
   ]
  },
  {
   "cell_type": "markdown",
   "metadata": {},
   "source": [
    "Komórka: test Kernel."
   ]
  },
  {
   "cell_type": "code",
   "execution_count": 1,
   "metadata": {},
   "outputs": [
    {
     "name": "stdout",
     "output_type": "stream",
     "text": [
      "c:\\Users\\takze\\OneDrive\\Pulpit\\bootcamp\\venv\\Scripts\\python.exe\n"
     ]
    }
   ],
   "source": [
    "import sys\n",
    "print(sys.executable)"
   ]
  },
  {
   "cell_type": "markdown",
   "metadata": {},
   "source": [
    "## **3. Jak działa LLM?**\n",
    "LLMs opierają się na trzech kluczowych procesach:\n",
    "1. **Trening na danych** → Model analizuje miliardy zdań z książek, artykułów, kodów źródłowych.\n",
    "2. **Tokenizacja** → Tekst jest dzielony na tokeny, czyli fragmenty słów.\n",
    "3. **Generowanie tekstu** → Model przewiduje kolejne słowa, bazując na wcześniejszych tokenach."
   ]
  },
  {
   "cell_type": "markdown",
   "metadata": {},
   "source": [
    "## **4. Przykład kodu – generowanie tekstu**"
   ]
  },
  {
   "cell_type": "markdown",
   "metadata": {},
   "source": [
    "Komórka 2: Import bibliotek, załadowanie klucza API i konfiguracja Google AI"
   ]
  },
  {
   "cell_type": "code",
   "execution_count": 2,
   "metadata": {},
   "outputs": [],
   "source": [
    "import os\n",
    "from dotenv import load_dotenv\n",
    "import google.generativeai as genai\n",
    "\n",
    "# Załaduj zmienne środowiskowe z pliku .env\n",
    "load_dotenv()\n",
    "\n",
    "# Pobierz klucz API Google z zmiennej środowiskowej\n",
    "GOOGLE_API_KEY = os.getenv(\"GOOGLE_API_KEY\")\n",
    "\n",
    "# Sprawdź czy klucz API Google został pobrany\n",
    "if GOOGLE_API_KEY is None:\n",
    "    raise ValueError(\"Nie znaleziono klucza API Google. Upewnij się, że ustawiłeś zmienną środowiskową GOOGLE_API_KEY.\")\n",
    "\n",
    "# Konfiguracja klucza API Google\n",
    "genai.configure(api_key=GOOGLE_API_KEY)"
   ]
  },
  {
   "cell_type": "markdown",
   "metadata": {},
   "source": [
    "Komórka 3: Definicja funkcji generate_text"
   ]
  },
  {
   "cell_type": "code",
   "execution_count": 2,
   "metadata": {},
   "outputs": [],
   "source": [
    "def generate_text(prompt):\n",
    "    try:\n",
    "        model = genai.GenerativeModel('gemini-1.5-pro')  # Wybierz model Gemini\n",
    "        chat = model.start_chat()\n",
    "\n",
    "        response = chat.send_message(prompt)\n",
    "        return response.text.strip()\n",
    "    except Exception as e:\n",
    "        print(f\"Błąd podczas generowania tekstu: {e}\")\n",
    "        return None"
   ]
  },
  {
   "cell_type": "markdown",
   "metadata": {},
   "source": [
    "Komórka 4: Definicja promptu, wywołanie funkcji generate_text i wyświetlenie odpowiedzi"
   ]
  },
  {
   "cell_type": "code",
   "execution_count": 4,
   "metadata": {},
   "outputs": [
    {
     "name": "stdout",
     "output_type": "stream",
     "text": [
      "Model odpowiedział: Uczenie maszynowe oferuje szereg zalet, które przyczyniają się do jego rosnącej popularności i zastosowania w różnych dziedzinach. Oto niektóre z głównych korzyści:\n",
      "\n",
      "**1. Automatyzacja procesów:** Uczenie maszynowe pozwala na automatyzację zadań, które wcześniej wymagały interwencji człowieka.  To oszczędza czas i zasoby, a także minimalizuje ryzyko błędu ludzkiego. Przykłady obejmują automatyczne sortowanie poczty elektronicznej, wykrywanie oszustw i obsługę klienta za pomocą chatbotów.\n",
      "\n",
      "**2. Identyfikacja trendów i wzorców:** Algorytmy uczenia maszynowego potrafią analizować ogromne ilości danych i identyfikować ukryte trendy, wzorce i korelacje, które byłyby trudne do zauważenia przez człowieka. To pozwala na lepsze zrozumienie danych i podejmowanie bardziej trafnych decyzji.\n",
      "\n",
      "**3. Ciągłe ulepszanie:** Modele uczenia maszynowego uczą się na podstawie danych i z czasem stają się coraz lepsze w wykonywaniu swoich zadań. Im więcej danych otrzymują, tym dokładniejsze i bardziej efektywne stają się ich predykcje.\n",
      "\n",
      "**4. Dostosowywanie się do zmian:** Modele uczenia maszynowego potrafią dostosować się do zmian w danych i środowisku.  Dzięki temu systemy oparte na uczeniu maszynowym są bardziej elastyczne i odporne na zmiany.\n",
      "\n",
      "**5. Obsługa złożonych danych:** Uczenie maszynowe radzi sobie z analizą złożonych i wielowymiarowych danych, które są zbyt trudne do przetworzenia tradycyjnymi metodami.  Pozwala to na wydobycie wartościowych informacji z danych, które wcześniej były niedostępne.\n",
      "\n",
      "**6. Skalowalność:** Systemy uczenia maszynowego można łatwo skalować, aby obsłużyć rosnące ilości danych i zapotrzebowanie na przetwarzanie.\n",
      "\n",
      "**7. Personalizacja:** Uczenie maszynowe umożliwia personalizację doświadczeń użytkowników, np. poprzez rekomendacje produktów, spersonalizowane reklamy i dostosowane treści.\n",
      "\n",
      "**8. Innowacje:** Uczenie maszynowe otwiera drzwi do innowacji w różnych dziedzinach, takich jak medycyna, finanse, transport i wiele innych.  Pozwala na tworzenie nowych produktów, usług i rozwiązań, które wcześniej były niemożliwe.\n",
      "\n",
      "\n",
      "Oprócz tych zalet, warto również pamiętać o potencjalnych wyzwaniach związanych z uczeniem maszynowym, takich jak:\n",
      "\n",
      "* **Potrzeba dużych zbiorów danych:**  Modele uczenia maszynowego wymagają dużych ilości danych do efektywnego uczenia się.\n",
      "* **Złożoność:** Projektowanie, wdrażanie i utrzymanie systemów uczenia maszynowego może być złożone i wymagać specjalistycznej wiedzy.\n",
      "* **Interpretowalność:** Niektóre modele uczenia maszynowego są trudne do interpretacji, co utrudnia zrozumienie, jak dochodzą do swoich wniosków.\n",
      "* **Etyka:** Istnieją etyczne implikacje związane z wykorzystaniem uczenia maszynowego, takie jak prywatność danych, stronniczość algorytmów i potencjalne konsekwencje społeczne.\n"
     ]
    }
   ],
   "source": [
    "prompt = 'Jakie są główne zalety uczenia maszynowego?'\n",
    "response = generate_text(prompt)\n",
    "\n",
    "if response:\n",
    "    print('Model odpowiedział:', response)\n",
    "else:\n",
    "    print(\"Nie udało się wygenerować odpowiedzi.\")"
   ]
  },
  {
   "cell_type": "markdown",
   "metadata": {},
   "source": [
    "Wyjaśnienie:\n",
    "\n",
    "    Komórka 1: Instaluje biblioteki. Uruchom ją tylko raz.\n",
    "\n",
    "    Komórka 2:\n",
    "\n",
    "        Importuje biblioteki:\n",
    "\n",
    "            os: Do pracy ze zmiennymi środowiskowymi.\n",
    "\n",
    "            dotenv: Do ładowania zmiennych środowiskowych z pliku .env.\n",
    "\n",
    "            google.generativeai: Biblioteka do interakcji z Gemini API.\n",
    "\n",
    "        Ładuje zmienne środowiskowe z pliku .env.\n",
    "\n",
    "        Pobiera klucz API Google z zmiennej środowiskowej GOOGLE_API_KEY.\n",
    "\n",
    "        Sprawdza, czy klucz API został pobrany.\n",
    "\n",
    "        Konfiguruje klucz API Google.\n",
    "\n",
    "    Komórka 3: Definiuje funkcję generate_text, która generuje tekst za pomocą Gemini API.\n",
    "\n",
    "    Komórka 4:\n",
    "\n",
    "        Definiuje prompt.\n",
    "\n",
    "        Wywołuje funkcję generate_text, aby wygenerować odpowiedź.\n",
    "\n",
    "        Wyświetla odpowiedź.\n",
    "\n",
    "Jak używać w Jupyter Notebook:\n",
    "\n",
    "    Otwórz plik ipynb w Jupyter Notebook.\n",
    "\n",
    "    Wklej zawartość każdej komórki do osobnej komórki w notebooku.\n",
    "\n",
    "    Uruchom komórki po kolei (Shift + Enter).\n",
    "\n",
    "Ten kod powinien działać poprawnie w Jupyter Notebook, pobierając klucz API Google z pliku .env i używając Gemini API do generowania tekstu."
   ]
  },
  {
   "cell_type": "markdown",
   "metadata": {},
   "source": [
    "## **5. Podsumowanie**\n",
    "LLMs potrafią generować treści, analizować tekst i automatyzować wiele zadań. Ich zrozumienie to klucz do tworzenia nowoczesnych aplikacji AI."
   ]
  }
 ],
 "metadata": {
  "kernelspec": {
   "display_name": "venv",
   "language": "python",
   "name": "python3"
  },
  "language_info": {
   "codemirror_mode": {
    "name": "ipython",
    "version": 3
   },
   "file_extension": ".py",
   "mimetype": "text/x-python",
   "name": "python",
   "nbconvert_exporter": "python",
   "pygments_lexer": "ipython3",
   "version": "3.12.8"
  }
 },
 "nbformat": 4,
 "nbformat_minor": 2
}

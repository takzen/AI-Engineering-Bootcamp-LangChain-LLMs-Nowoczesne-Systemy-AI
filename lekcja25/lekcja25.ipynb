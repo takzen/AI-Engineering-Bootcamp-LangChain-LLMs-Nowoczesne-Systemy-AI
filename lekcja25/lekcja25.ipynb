{
 "cells": [
  {
   "cell_type": "markdown",
   "metadata": {},
   "source": [
    "# **Lekcja 25: Jak działają Large Language Models (LLMs)?**"
   ]
  },
  {
   "cell_type": "markdown",
   "metadata": {},
   "source": [
    "## **1. Wstęp**\n",
    "Large Language Models (LLMs), takie jak **GPT-3** i **GPT-4**, to potężne sieci neuronowe przeszkolone na miliardach słów. Potrafią generować tekst, odpowiadać na pytania i tłumaczyć języki. W tej lekcji omówimy:\n",
    "- **Jak są trenowane?**\n",
    "- **Co to jest tokenizacja?**\n",
    "- **Jak generują tekst?**"
   ]
  },
  {
   "cell_type": "markdown",
   "metadata": {},
   "source": [
    "## **2. Instalacja narzędzi**\n",
    "Komórka 1: Najpierw musimy zainstalować odpowiednie biblioteki. Uruchom poniższą komórkę:\n"
   ]
  },
  {
   "cell_type": "code",
   "execution_count": 7,
   "metadata": {},
   "outputs": [
    {
     "name": "stdout",
     "output_type": "stream",
     "text": [
      "Requirement already satisfied: python-dotenv in c:\\users\\takze\\onedrive\\pulpit\\python\\venv\\lib\\site-packages (1.0.1)\n",
      "Requirement already satisfied: google-generativeai in c:\\users\\takze\\onedrive\\pulpit\\python\\venv\\lib\\site-packages (0.8.4)\n",
      "Requirement already satisfied: google-ai-generativelanguage==0.6.15 in c:\\users\\takze\\onedrive\\pulpit\\python\\venv\\lib\\site-packages (from google-generativeai) (0.6.15)\n",
      "Requirement already satisfied: google-api-core in c:\\users\\takze\\onedrive\\pulpit\\python\\venv\\lib\\site-packages (from google-generativeai) (2.24.1)\n",
      "Requirement already satisfied: google-api-python-client in c:\\users\\takze\\onedrive\\pulpit\\python\\venv\\lib\\site-packages (from google-generativeai) (2.160.0)\n",
      "Requirement already satisfied: google-auth>=2.15.0 in c:\\users\\takze\\onedrive\\pulpit\\python\\venv\\lib\\site-packages (from google-generativeai) (2.38.0)\n",
      "Requirement already satisfied: protobuf in c:\\users\\takze\\onedrive\\pulpit\\python\\venv\\lib\\site-packages (from google-generativeai) (5.29.3)\n",
      "Requirement already satisfied: pydantic in c:\\users\\takze\\onedrive\\pulpit\\python\\venv\\lib\\site-packages (from google-generativeai) (2.10.6)\n",
      "Requirement already satisfied: tqdm in c:\\users\\takze\\onedrive\\pulpit\\python\\venv\\lib\\site-packages (from google-generativeai) (4.67.1)\n",
      "Requirement already satisfied: typing-extensions in c:\\users\\takze\\onedrive\\pulpit\\python\\venv\\lib\\site-packages (from google-generativeai) (4.12.2)\n",
      "Requirement already satisfied: proto-plus<2.0.0dev,>=1.22.3 in c:\\users\\takze\\onedrive\\pulpit\\python\\venv\\lib\\site-packages (from google-ai-generativelanguage==0.6.15->google-generativeai) (1.26.0)\n",
      "Requirement already satisfied: googleapis-common-protos<2.0.dev0,>=1.56.2 in c:\\users\\takze\\onedrive\\pulpit\\python\\venv\\lib\\site-packages (from google-api-core->google-generativeai) (1.67.0rc1)\n",
      "Requirement already satisfied: requests<3.0.0.dev0,>=2.18.0 in c:\\users\\takze\\onedrive\\pulpit\\python\\venv\\lib\\site-packages (from google-api-core->google-generativeai) (2.32.3)\n",
      "Requirement already satisfied: cachetools<6.0,>=2.0.0 in c:\\users\\takze\\onedrive\\pulpit\\python\\venv\\lib\\site-packages (from google-auth>=2.15.0->google-generativeai) (5.5.1)\n",
      "Requirement already satisfied: pyasn1-modules>=0.2.1 in c:\\users\\takze\\onedrive\\pulpit\\python\\venv\\lib\\site-packages (from google-auth>=2.15.0->google-generativeai) (0.4.1)\n",
      "Requirement already satisfied: rsa<5,>=3.1.4 in c:\\users\\takze\\onedrive\\pulpit\\python\\venv\\lib\\site-packages (from google-auth>=2.15.0->google-generativeai) (4.9)\n",
      "Requirement already satisfied: httplib2<1.dev0,>=0.19.0 in c:\\users\\takze\\onedrive\\pulpit\\python\\venv\\lib\\site-packages (from google-api-python-client->google-generativeai) (0.22.0)\n",
      "Requirement already satisfied: google-auth-httplib2<1.0.0,>=0.2.0 in c:\\users\\takze\\onedrive\\pulpit\\python\\venv\\lib\\site-packages (from google-api-python-client->google-generativeai) (0.2.0)\n",
      "Requirement already satisfied: uritemplate<5,>=3.0.1 in c:\\users\\takze\\onedrive\\pulpit\\python\\venv\\lib\\site-packages (from google-api-python-client->google-generativeai) (4.1.1)\n",
      "Requirement already satisfied: annotated-types>=0.6.0 in c:\\users\\takze\\onedrive\\pulpit\\python\\venv\\lib\\site-packages (from pydantic->google-generativeai) (0.7.0)\n",
      "Requirement already satisfied: pydantic-core==2.27.2 in c:\\users\\takze\\onedrive\\pulpit\\python\\venv\\lib\\site-packages (from pydantic->google-generativeai) (2.27.2)\n",
      "Requirement already satisfied: colorama in c:\\users\\takze\\onedrive\\pulpit\\python\\venv\\lib\\site-packages (from tqdm->google-generativeai) (0.4.6)\n",
      "Requirement already satisfied: grpcio<2.0dev,>=1.33.2 in c:\\users\\takze\\onedrive\\pulpit\\python\\venv\\lib\\site-packages (from google-api-core[grpc]!=2.0.*,!=2.1.*,!=2.10.*,!=2.2.*,!=2.3.*,!=2.4.*,!=2.5.*,!=2.6.*,!=2.7.*,!=2.8.*,!=2.9.*,<3.0.0dev,>=1.34.1->google-ai-generativelanguage==0.6.15->google-generativeai) (1.70.0)\n",
      "Requirement already satisfied: grpcio-status<2.0.dev0,>=1.33.2 in c:\\users\\takze\\onedrive\\pulpit\\python\\venv\\lib\\site-packages (from google-api-core[grpc]!=2.0.*,!=2.1.*,!=2.10.*,!=2.2.*,!=2.3.*,!=2.4.*,!=2.5.*,!=2.6.*,!=2.7.*,!=2.8.*,!=2.9.*,<3.0.0dev,>=1.34.1->google-ai-generativelanguage==0.6.15->google-generativeai) (1.70.0)\n",
      "Requirement already satisfied: pyparsing!=3.0.0,!=3.0.1,!=3.0.2,!=3.0.3,<4,>=2.4.2 in c:\\users\\takze\\onedrive\\pulpit\\python\\venv\\lib\\site-packages (from httplib2<1.dev0,>=0.19.0->google-api-python-client->google-generativeai) (3.2.1)\n",
      "Requirement already satisfied: pyasn1<0.7.0,>=0.4.6 in c:\\users\\takze\\onedrive\\pulpit\\python\\venv\\lib\\site-packages (from pyasn1-modules>=0.2.1->google-auth>=2.15.0->google-generativeai) (0.6.1)\n",
      "Requirement already satisfied: charset-normalizer<4,>=2 in c:\\users\\takze\\onedrive\\pulpit\\python\\venv\\lib\\site-packages (from requests<3.0.0.dev0,>=2.18.0->google-api-core->google-generativeai) (3.4.1)\n",
      "Requirement already satisfied: idna<4,>=2.5 in c:\\users\\takze\\onedrive\\pulpit\\python\\venv\\lib\\site-packages (from requests<3.0.0.dev0,>=2.18.0->google-api-core->google-generativeai) (3.10)\n",
      "Requirement already satisfied: urllib3<3,>=1.21.1 in c:\\users\\takze\\onedrive\\pulpit\\python\\venv\\lib\\site-packages (from requests<3.0.0.dev0,>=2.18.0->google-api-core->google-generativeai) (2.3.0)\n",
      "Requirement already satisfied: certifi>=2017.4.17 in c:\\users\\takze\\onedrive\\pulpit\\python\\venv\\lib\\site-packages (from requests<3.0.0.dev0,>=2.18.0->google-api-core->google-generativeai) (2025.1.31)\n",
      "Note: you may need to restart the kernel to use updated packages.\n"
     ]
    }
   ],
   "source": [
    "%pip install python-dotenv google-generativeai"
   ]
  },
  {
   "cell_type": "markdown",
   "metadata": {},
   "source": [
    "Komórka: test Kernel."
   ]
  },
  {
   "cell_type": "code",
   "execution_count": 2,
   "metadata": {},
   "outputs": [
    {
     "name": "stdout",
     "output_type": "stream",
     "text": [
      "c:\\Users\\takze\\OneDrive\\Pulpit\\python\\venv\\Scripts\\python.exe\n"
     ]
    }
   ],
   "source": [
    "import sys\n",
    "print(sys.executable)"
   ]
  },
  {
   "cell_type": "markdown",
   "metadata": {},
   "source": [
    "## **3. Jak działa LLM?**\n",
    "LLMs opierają się na trzech kluczowych procesach:\n",
    "1. **Trening na danych** → Model analizuje miliardy zdań z książek, artykułów, kodów źródłowych.\n",
    "2. **Tokenizacja** → Tekst jest dzielony na tokeny, czyli fragmenty słów.\n",
    "3. **Generowanie tekstu** → Model przewiduje kolejne słowa, bazując na wcześniejszych tokenach."
   ]
  },
  {
   "cell_type": "markdown",
   "metadata": {},
   "source": [
    "## **4. Przykład kodu – generowanie tekstu**"
   ]
  },
  {
   "cell_type": "markdown",
   "metadata": {},
   "source": [
    "Komórka 2: Import bibliotek, załadowanie klucza API i konfiguracja Google AI"
   ]
  },
  {
   "cell_type": "code",
   "execution_count": 8,
   "metadata": {},
   "outputs": [],
   "source": [
    "import os\n",
    "from dotenv import load_dotenv\n",
    "import google.generativeai as genai\n",
    "\n",
    "# Załaduj zmienne środowiskowe z pliku .env\n",
    "load_dotenv()\n",
    "\n",
    "# Pobierz klucz API Google z zmiennej środowiskowej\n",
    "GOOGLE_API_KEY = os.getenv(\"GOOGLE_API_KEY\")\n",
    "\n",
    "# Sprawdź czy klucz API Google został pobrany\n",
    "if GOOGLE_API_KEY is None:\n",
    "    raise ValueError(\"Nie znaleziono klucza API Google. Upewnij się, że ustawiłeś zmienną środowiskową GOOGLE_API_KEY.\")\n",
    "\n",
    "# Konfiguracja klucza API Google\n",
    "genai.configure(api_key=GOOGLE_API_KEY)"
   ]
  },
  {
   "cell_type": "markdown",
   "metadata": {},
   "source": [
    "Komórka 3: Definicja funkcji generate_text"
   ]
  },
  {
   "cell_type": "code",
   "execution_count": 9,
   "metadata": {},
   "outputs": [],
   "source": [
    "def generate_text(prompt):\n",
    "    try:\n",
    "        model = genai.GenerativeModel('gemini-1.5-pro')  # Wybierz model Gemini\n",
    "        chat = model.start_chat()\n",
    "\n",
    "        response = chat.send_message(prompt)\n",
    "        return response.text.strip()\n",
    "    except Exception as e:\n",
    "        print(f\"Błąd podczas generowania tekstu: {e}\")\n",
    "        return None"
   ]
  },
  {
   "cell_type": "markdown",
   "metadata": {},
   "source": [
    "Komórka 4: Definicja promptu, wywołanie funkcji generate_text i wyświetlenie odpowiedzi"
   ]
  },
  {
   "cell_type": "code",
   "execution_count": 10,
   "metadata": {},
   "outputs": [
    {
     "name": "stdout",
     "output_type": "stream",
     "text": [
      "Model odpowiedział: Uczenie maszynowe oferuje wiele zalet, które przyczyniają się do jego rosnącej popularności i zastosowania w różnych dziedzinach. Oto niektóre z głównych:\n",
      "\n",
      "**1. Automatyzacja procesów:**  Uczenie maszynowe pozwala na automatyzację zadań, które wcześniej wymagały ludzkiej interwencji.  Przykłady obejmują sortowanie poczty, wykrywanie spamu, rekomendowanie produktów, czy też prowadzenie chatbotów.\n",
      "\n",
      "**2. Identyfikacja trendów i wzorców:** Algorytmy uczenia maszynowego potrafią analizować ogromne ilości danych i identyfikować w nich ukryte trendy, wzorce i korelacje, które mogłyby zostać niezauważone przez człowieka.  To pozwala na lepsze zrozumienie danych i podejmowanie bardziej trafnych decyzji.\n",
      "\n",
      "**3. Ciągłe ulepszanie:** Modele uczenia maszynowego uczą się na podstawie danych i z czasem stają się coraz lepsze w wykonywaniu swoich zadań. Im więcej danych jest dostępnych, tym dokładniejsze i bardziej efektywne stają się predykcje.\n",
      "\n",
      "**4. Adaptacja do zmian:**  Modele uczenia maszynowego potrafią adaptować się do zmian w danych i środowisku, w którym działają. Dzięki temu są one bardziej elastyczne i odporne na zmiany w porównaniu do tradycyjnych systemów opartych na regułach.\n",
      "\n",
      "**5. Personalizacja:** Uczenie maszynowe umożliwia personalizację doświadczeń użytkowników. Przykładem są rekomendacje produktów w sklepach internetowych, spersonalizowane reklamy, czy też dostosowane do indywidualnych potrzeb programy nauczania.\n",
      "\n",
      "**6. Skalowalność:** Algorytmy uczenia maszynowego mogą być łatwo skalowane, aby radzić sobie z rosnącą ilością danych i rosnącym zapotrzebowaniem na przetwarzanie.\n",
      "\n",
      "**7. Redukcja kosztów:** Automatyzacja zadań i procesów dzięki uczeniu maszynowemu może prowadzić do znacznej redukcji kosztów operacyjnych.\n",
      "\n",
      "**8. Innowacje:** Uczenie maszynowe otwiera drzwi do innowacji i tworzenia nowych produktów i usług. Przykłady obejmują samochody autonomiczne, asystentów głosowych, czy też zaawansowane narzędzia diagnostyczne w medycynie.\n",
      "\n",
      "**9. Lepsze podejmowanie decyzji:** Analiza danych i predykcje generowane przez modele uczenia maszynowego dostarczają cennych informacji, które wspierają podejmowanie lepszych i bardziej świadomych decyzji biznesowych.\n",
      "\n",
      "**10. Rozwiązywanie złożonych problemów:** Uczenie maszynowe może być wykorzystywane do rozwiązywania złożonych problemów, które są trudne lub niemożliwe do rozwiązania za pomocą tradycyjnych metod.\n",
      "\n",
      "\n",
      "Należy jednak pamiętać, że uczenie maszynowe ma również pewne ograniczenia, takie jak potrzeba dużych zbiorów danych, ryzyko biasu w danych, czy też trudności w interpretacji działania niektórych modeli.\n"
     ]
    }
   ],
   "source": [
    "prompt = 'Jakie są główne zalety uczenia maszynowego?'\n",
    "response = generate_text(prompt)\n",
    "\n",
    "if response:\n",
    "    print('Model odpowiedział:', response)\n",
    "else:\n",
    "    print(\"Nie udało się wygenerować odpowiedzi.\")"
   ]
  },
  {
   "cell_type": "markdown",
   "metadata": {},
   "source": [
    "Wyjaśnienie:\n",
    "\n",
    "    Komórka 1: Instaluje biblioteki. Uruchom ją tylko raz.\n",
    "\n",
    "    Komórka 2:\n",
    "\n",
    "        Importuje biblioteki:\n",
    "\n",
    "            os: Do pracy ze zmiennymi środowiskowymi.\n",
    "\n",
    "            dotenv: Do ładowania zmiennych środowiskowych z pliku .env.\n",
    "\n",
    "            google.generativeai: Biblioteka do interakcji z Gemini API.\n",
    "\n",
    "        Ładuje zmienne środowiskowe z pliku .env.\n",
    "\n",
    "        Pobiera klucz API Google z zmiennej środowiskowej GOOGLE_API_KEY.\n",
    "\n",
    "        Sprawdza, czy klucz API został pobrany.\n",
    "\n",
    "        Konfiguruje klucz API Google.\n",
    "\n",
    "    Komórka 3: Definiuje funkcję generate_text, która generuje tekst za pomocą Gemini API.\n",
    "\n",
    "    Komórka 4:\n",
    "\n",
    "        Definiuje prompt.\n",
    "\n",
    "        Wywołuje funkcję generate_text, aby wygenerować odpowiedź.\n",
    "\n",
    "        Wyświetla odpowiedź.\n",
    "\n",
    "Jak używać w Jupyter Notebook:\n",
    "\n",
    "    Otwórz plik ipynb w Jupyter Notebook.\n",
    "\n",
    "    Wklej zawartość każdej komórki do osobnej komórki w notebooku.\n",
    "\n",
    "    Uruchom komórki po kolei (Shift + Enter).\n",
    "\n",
    "Ten kod powinien działać poprawnie w Jupyter Notebook, pobierając klucz API Google z pliku .env i używając Gemini API do generowania tekstu."
   ]
  },
  {
   "cell_type": "markdown",
   "metadata": {},
   "source": [
    "## **5. Podsumowanie**\n",
    "LLMs potrafią generować treści, analizować tekst i automatyzować wiele zadań. Ich zrozumienie to klucz do tworzenia nowoczesnych aplikacji AI."
   ]
  }
 ],
 "metadata": {
  "kernelspec": {
   "display_name": "venv",
   "language": "python",
   "name": "python3"
  },
  "language_info": {
   "codemirror_mode": {
    "name": "ipython",
    "version": 3
   },
   "file_extension": ".py",
   "mimetype": "text/x-python",
   "name": "python",
   "nbconvert_exporter": "python",
   "pygments_lexer": "ipython3",
   "version": "3.12.8"
  }
 },
 "nbformat": 4,
 "nbformat_minor": 2
}
